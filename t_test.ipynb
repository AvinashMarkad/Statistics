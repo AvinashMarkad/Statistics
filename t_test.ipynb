{
 "cells": [
  {
   "cell_type": "code",
   "execution_count": 1,
   "id": "1d0d19aa-3973-4ceb-ad66-bd5c3407e524",
   "metadata": {},
   "outputs": [],
   "source": [
    "import numpy as np\n",
    "from scipy import stats"
   ]
  },
  {
   "cell_type": "code",
   "execution_count": 2,
   "id": "0a65e46b-7ba2-4dd0-970b-cc7db8dd9077",
   "metadata": {},
   "outputs": [],
   "source": [
    "sample = [173, 172, 168, 169, 173, 173, 173, 169, 170, 171, \n",
    " 170, 169, 170, 169, 175, 168, 168, 168, 173, 170, \n",
    " 169, 173, 172, 172, 169, 168, 171, 169, 169, 169, \n",
    " 168, 172, 173, 169, 172, 170, 172, 172, 174, 175]\n"
   ]
  },
  {
   "cell_type": "code",
   "execution_count": 3,
   "id": "58f5006e-fcc3-48b4-9c40-05f96702e86f",
   "metadata": {},
   "outputs": [
    {
     "data": {
      "text/plain": [
       "np.float64(170.725)"
      ]
     },
     "execution_count": 3,
     "metadata": {},
     "output_type": "execute_result"
    }
   ],
   "source": [
    "sample_mean = np.mean(sample)\n",
    "sample_mean"
   ]
  },
  {
   "cell_type": "code",
   "execution_count": 5,
   "id": "f5c1a6d1-3ae1-4aa3-ac52-c5c1039d8368",
   "metadata": {},
   "outputs": [
    {
     "data": {
      "text/plain": [
       "np.float64(2.0999084229116716)"
      ]
     },
     "execution_count": 5,
     "metadata": {},
     "output_type": "execute_result"
    }
   ],
   "source": [
    "sample_std = np.std(sample,ddof = 1)\n",
    "sample_std"
   ]
  },
  {
   "cell_type": "code",
   "execution_count": 7,
   "id": "ba766e10-038a-4a95-974b-59b45056237c",
   "metadata": {},
   "outputs": [
    {
     "data": {
      "text/plain": [
       "40"
      ]
     },
     "execution_count": 7,
     "metadata": {},
     "output_type": "execute_result"
    }
   ],
   "source": [
    "n = len(sample)\n",
    "n"
   ]
  },
  {
   "cell_type": "code",
   "execution_count": 8,
   "id": "257013a6-aaa4-426a-8ded-0f87f714f569",
   "metadata": {},
   "outputs": [],
   "source": [
    "mean_population = 170"
   ]
  },
  {
   "cell_type": "code",
   "execution_count": 9,
   "id": "342c19a6-9e38-49ed-aeac-6919831257ee",
   "metadata": {},
   "outputs": [
    {
     "data": {
      "text/plain": [
       "np.float64(3.0246688947548592)"
      ]
     },
     "execution_count": 9,
     "metadata": {},
     "output_type": "execute_result"
    }
   ],
   "source": [
    "t_stats = (sample_mean/mean_population)/(sample_std/np.sqrt(n))\n",
    "t_stats"
   ]
  },
  {
   "cell_type": "code",
   "execution_count": 13,
   "id": "736f96c1-7747-4c78-9b0c-6eedab30d0e6",
   "metadata": {},
   "outputs": [
    {
     "data": {
      "text/plain": [
       "np.float64(0.00438842271817208)"
      ]
     },
     "execution_count": 13,
     "metadata": {},
     "output_type": "execute_result"
    }
   ],
   "source": [
    "p_value = 2 * (1 - stats.t.cdf(t_stats, df=n-1))\n",
    "p_value"
   ]
  },
  {
   "cell_type": "code",
   "execution_count": 14,
   "id": "edc3b39d-19d2-4879-8dbc-1470d8683253",
   "metadata": {},
   "outputs": [],
   "source": [
    "alpha = 0.05"
   ]
  },
  {
   "cell_type": "code",
   "execution_count": 15,
   "id": "e4af4875-c9da-4d79-a3a7-f2cc1a38e3a4",
   "metadata": {},
   "outputs": [
    {
     "name": "stdout",
     "output_type": "stream",
     "text": [
      "Rejected\n"
     ]
    }
   ],
   "source": [
    "if p_value < alpha:\n",
    "    print(\"Rejected\")\n",
    "else:\n",
    "    print(\"Accepted\")"
   ]
  },
  {
   "cell_type": "code",
   "execution_count": null,
   "id": "9d8c798a-b23f-4189-a1d3-52c7a1ae9427",
   "metadata": {},
   "outputs": [],
   "source": []
  }
 ],
 "metadata": {
  "kernelspec": {
   "display_name": "Python [conda env:base] *",
   "language": "python",
   "name": "conda-base-py"
  },
  "language_info": {
   "codemirror_mode": {
    "name": "ipython",
    "version": 3
   },
   "file_extension": ".py",
   "mimetype": "text/x-python",
   "name": "python",
   "nbconvert_exporter": "python",
   "pygments_lexer": "ipython3",
   "version": "3.13.5"
  }
 },
 "nbformat": 4,
 "nbformat_minor": 5
}
