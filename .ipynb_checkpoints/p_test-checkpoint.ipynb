{
 "cells": [
  {
   "cell_type": "code",
   "execution_count": 1,
   "id": "8898e841-1c2c-44fa-a836-866bc9649afb",
   "metadata": {},
   "outputs": [],
   "source": [
    "import numpy as np\n",
    "from scipy.stats import norm"
   ]
  },
  {
   "cell_type": "code",
   "execution_count": 6,
   "id": "f3cc3af6-146b-4e38-a211-692ea2d31fbe",
   "metadata": {},
   "outputs": [],
   "source": [
    "sample = [173, 172, 168, 169, 173, 173, 173, 169, 170, 171, \n",
    " 170, 169, 170, 169, 175, 168, 168, 168, 173, 170, \n",
    " 169, 173, 172, 172, 169, 168, 171, 169, 169, 169, \n",
    " 168, 172, 173, 169, 172, 170, 172, 172, 174, 175]\n",
    "\n",
    "population_mean = 170\n",
    "population_std = 3\n",
    "sample_mean = np.mean(sample)\n",
    "n = len(sample)"
   ]
  },
  {
   "cell_type": "code",
   "execution_count": 7,
   "id": "0c567dde-c0fb-4ac9-9059-a22617f610d5",
   "metadata": {},
   "outputs": [
    {
     "data": {
      "text/plain": [
       "np.float64(1.5284342024147048)"
      ]
     },
     "execution_count": 7,
     "metadata": {},
     "output_type": "execute_result"
    }
   ],
   "source": [
    "z_score = (sample_mean - population_mean)/(population_std/np.sqrt(n))\n",
    "z_score"
   ]
  },
  {
   "cell_type": "code",
   "execution_count": 8,
   "id": "ad4eea54-67df-4aad-b2a4-db5e939c3620",
   "metadata": {},
   "outputs": [
    {
     "data": {
      "text/plain": [
       "np.float64(0.1264047683451226)"
      ]
     },
     "execution_count": 8,
     "metadata": {},
     "output_type": "execute_result"
    }
   ],
   "source": [
    "p_value = 2 * (1- norm.cdf(abs(z_score)))\n",
    "p_value"
   ]
  },
  {
   "cell_type": "code",
   "execution_count": 11,
   "id": "4fcef24f-028e-40c2-8104-de7f9b342372",
   "metadata": {},
   "outputs": [
    {
     "name": "stdout",
     "output_type": "stream",
     "text": [
      "I will Accept the Null Hypothesis\n"
     ]
    }
   ],
   "source": [
    "alpha = 0.05\n",
    "\n",
    "if p_value > alpha:\n",
    "    print(\"I will Accept the Null Hypothesis Test\")\n",
    "else:\n",
    "    print(\"I will Reject the Null Hypothesis Test\")"
   ]
  },
  {
   "cell_type": "code",
   "execution_count": null,
   "id": "25c35934-3687-4379-8696-47fe8f4eed17",
   "metadata": {},
   "outputs": [],
   "source": []
  }
 ],
 "metadata": {
  "kernelspec": {
   "display_name": "Python [conda env:base] *",
   "language": "python",
   "name": "conda-base-py"
  },
  "language_info": {
   "codemirror_mode": {
    "name": "ipython",
    "version": 3
   },
   "file_extension": ".py",
   "mimetype": "text/x-python",
   "name": "python",
   "nbconvert_exporter": "python",
   "pygments_lexer": "ipython3",
   "version": "3.13.5"
  }
 },
 "nbformat": 4,
 "nbformat_minor": 5
}
