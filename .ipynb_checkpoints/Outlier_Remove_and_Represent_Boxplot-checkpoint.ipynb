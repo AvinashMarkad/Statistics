{
 "cells": [
  {
   "cell_type": "code",
   "execution_count": 1,
   "id": "a82f8314-6966-4c1e-a52e-1b251148478c",
   "metadata": {},
   "outputs": [],
   "source": [
    "import numpy as np"
   ]
  },
  {
   "cell_type": "code",
   "execution_count": 2,
   "id": "42982e19-0e7c-4912-a4d4-02824ef03e4d",
   "metadata": {},
   "outputs": [],
   "source": [
    "arr = np.array([2,3,4,6,7,8,9,12,13,16,17,23,25,27,34,201])"
   ]
  },
  {
   "cell_type": "code",
   "execution_count": 3,
   "id": "c64b023b-5f61-443a-8ee9-7d59988a1380",
   "metadata": {},
   "outputs": [
    {
     "data": {
      "text/plain": [
       "array([  2,   3,   4,   6,   7,   8,   9,  12,  13,  16,  17,  23,  25,\n",
       "        27,  34, 201])"
      ]
     },
     "execution_count": 3,
     "metadata": {},
     "output_type": "execute_result"
    }
   ],
   "source": [
    "arr"
   ]
  },
  {
   "cell_type": "code",
   "execution_count": 4,
   "id": "74f5ae15-f568-4a4a-bc7c-4941a79f5ef4",
   "metadata": {},
   "outputs": [
    {
     "data": {
      "text/plain": [
       "np.float64(6.75)"
      ]
     },
     "execution_count": 4,
     "metadata": {},
     "output_type": "execute_result"
    }
   ],
   "source": [
    "Q1 = np.percentile(arr,25)\n",
    "Q1"
   ]
  },
  {
   "cell_type": "code",
   "execution_count": 5,
   "id": "ce110a08-2914-4dfd-87c4-18b8792feabd",
   "metadata": {},
   "outputs": [
    {
     "data": {
      "text/plain": [
       "np.float64(23.5)"
      ]
     },
     "execution_count": 5,
     "metadata": {},
     "output_type": "execute_result"
    }
   ],
   "source": [
    "Q3 = np.percentile(arr,75)\n",
    "Q3"
   ]
  },
  {
   "cell_type": "code",
   "execution_count": 6,
   "id": "19a61a85-8832-495f-8f50-066c1efe4f77",
   "metadata": {},
   "outputs": [
    {
     "data": {
      "text/plain": [
       "np.float64(16.75)"
      ]
     },
     "execution_count": 6,
     "metadata": {},
     "output_type": "execute_result"
    }
   ],
   "source": [
    "IQR = Q3-Q1\n",
    "IQR"
   ]
  },
  {
   "cell_type": "code",
   "execution_count": 7,
   "id": "1db803cf-2d75-4fe2-9424-c000c795ee26",
   "metadata": {},
   "outputs": [
    {
     "data": {
      "text/plain": [
       "np.float64(48.625)"
      ]
     },
     "execution_count": 7,
     "metadata": {},
     "output_type": "execute_result"
    }
   ],
   "source": [
    "UF = Q3 + (1.5*IQR)\n",
    "UF"
   ]
  },
  {
   "cell_type": "code",
   "execution_count": 8,
   "id": "b10621fd-0f36-48cf-8ba8-22fd1fc2dfab",
   "metadata": {},
   "outputs": [
    {
     "data": {
      "text/plain": [
       "np.float64(-18.375)"
      ]
     },
     "execution_count": 8,
     "metadata": {},
     "output_type": "execute_result"
    }
   ],
   "source": [
    "LF = Q1 - (1.5*IQR)\n",
    "LF"
   ]
  },
  {
   "cell_type": "code",
   "execution_count": 9,
   "id": "ff55e514-7ffd-4cd0-9a17-1828f19da1ce",
   "metadata": {},
   "outputs": [],
   "source": [
    "list = []\n",
    "for i in arr:\n",
    "    if i>=LF and i<=UF:\n",
    "        list.append(i)\n"
   ]
  },
  {
   "cell_type": "code",
   "execution_count": 10,
   "id": "39a16a3d-7f52-495a-a001-0a9bce686802",
   "metadata": {},
   "outputs": [],
   "source": [
    "arr1 = np.array(list)"
   ]
  },
  {
   "cell_type": "code",
   "execution_count": 11,
   "id": "b81d9244-f43b-4ec7-b99e-0480fe084248",
   "metadata": {},
   "outputs": [
    {
     "data": {
      "text/plain": [
       "array([ 2,  3,  4,  6,  7,  8,  9, 12, 13, 16, 17, 23, 25, 27, 34])"
      ]
     },
     "execution_count": 11,
     "metadata": {},
     "output_type": "execute_result"
    }
   ],
   "source": [
    "arr1"
   ]
  },
  {
   "cell_type": "code",
   "execution_count": 12,
   "id": "ba0927e4-d2e6-43c9-9e93-62fefe75064d",
   "metadata": {},
   "outputs": [
    {
     "data": {
      "text/plain": [
       "<Axes: >"
      ]
     },
     "execution_count": 12,
     "metadata": {},
     "output_type": "execute_result"
    },
    {
     "data": {
      "image/png": "[encoded data removed]",
      "text/plain": [
       "<Figure size 640x480 with 1 Axes>"
      ]
     },
     "metadata": {},
     "output_type": "display_data"
    }
   ],
   "source": [
    "import seaborn as sns\n",
    "\n",
    "sns.boxplot(x=arr)"
   ]
  },
  {
   "cell_type": "code",
   "execution_count": 13,
   "id": "8d1dfbcf-8a7b-4855-a810-6ce89db2eac7",
   "metadata": {},
   "outputs": [
    {
     "data": {
      "text/plain": [
       "<Axes: >"
      ]
     },
     "execution_count": 13,
     "metadata": {},
     "output_type": "execute_result"
    },
    {
     "data": {
      "image/png": "[encoded data removed]",
      "text/plain": [
       "<Figure size 640x480 with 1 Axes>"
      ]
     },
     "metadata": {},
     "output_type": "display_data"
    }
   ],
   "source": [
    "sns.boxplot(x=arr1)"
   ]
  },
  {
   "cell_type": "code",
   "execution_count": null,
   "id": "e844c1cc-c5eb-40bb-ac37-969db16cb10b",
   "metadata": {},
   "outputs": [],
   "source": []
  }
 ],
 "metadata": {
  "kernelspec": {
   "display_name": "Python 3 (ipykernel)",
   "language": "python",
   "name": "python3"
  },
  "language_info": {
   "codemirror_mode": {
    "name": "ipython",
    "version": 3
   },
   "file_extension": ".py",
   "mimetype": "text/x-python",
   "name": "python",
   "nbconvert_exporter": "python",
   "pygments_lexer": "ipython3",
   "version": "3.13.5"
  }
 },
 "nbformat": 4,
 "nbformat_minor": 5
}
