{
 "cells": [
  {
   "cell_type": "markdown",
   "id": "58828667-b3b2-4ce7-b6e6-adf2e56a16de",
   "metadata": {},
   "source": [
    "### two_sample_test"
   ]
  },
  {
   "cell_type": "code",
   "execution_count": 1,
   "id": "322efed1-9bed-4868-ac25-fd36d3f8bf3b",
   "metadata": {},
   "outputs": [],
   "source": [
    "import numpy as np\n",
    "from scipy import stats"
   ]
  },
  {
   "cell_type": "code",
   "execution_count": 2,
   "id": "a9348f1d-7e01-4eba-9ac3-046a1f08e19c",
   "metadata": {},
   "outputs": [],
   "source": [
    "group_a = [85, 90, 50, 41, 47, 59, 63, 85, 86, 54, \n",
    " 50, 49, 81, 100, 80, 61, 58, 42, 67, 79, \n",
    " 56, 59, 51, 87, 58, 64, 68, 98, 82, 49, \n",
    " 71, 74, 89, 52, 63, 41, 97, 41, 48, 85]\n",
    "\n",
    "group_b = [75, 95, 40, 70, 45, 80, 41, 52, 67, 68, \n",
    " 85, 79, 65, 97, 41, 78, 68, 46, 52, 78, \n",
    " 70, 79, 68, 76, 46, 41, 41, 99, 57, 89, \n",
    " 66, 56, 90, 62, 53, 40, 53, 83, 49, 99]"
   ]
  },
  {
   "cell_type": "code",
   "execution_count": 3,
   "id": "67e05813-1c00-4ca6-b666-ecd8500912d7",
   "metadata": {},
   "outputs": [],
   "source": [
    "t_stats, p_values = stats.ttest_ind(group_a,group_b,equal_var = False)"
   ]
  },
  {
   "cell_type": "code",
   "execution_count": 4,
   "id": "7a88601e-9644-425d-b4e4-f10397b7e2c0",
   "metadata": {},
   "outputs": [
    {
     "name": "stdout",
     "output_type": "stream",
     "text": [
      "0.13021855786754089\n",
      "0.8967291157850316\n"
     ]
    }
   ],
   "source": [
    "print(t_stats)\n",
    "print(p_values)"
   ]
  },
  {
   "cell_type": "code",
   "execution_count": 5,
   "id": "ab15ce85-a621-4aad-bad0-e2452efb70bf",
   "metadata": {},
   "outputs": [
    {
     "name": "stdout",
     "output_type": "stream",
     "text": [
      "accept\n"
     ]
    }
   ],
   "source": [
    "alpha = 0.05\n",
    "\n",
    "if p_values < alpha:\n",
    "    print(\"reject\")\n",
    "else:\n",
    "    print(\"accept\")"
   ]
  },
  {
   "cell_type": "code",
   "execution_count": null,
   "id": "0bfe3211-2854-4850-8090-d138eb6fa50e",
   "metadata": {},
   "outputs": [],
   "source": []
  }
 ],
 "metadata": {
  "kernelspec": {
   "display_name": "Python [conda env:base] *",
   "language": "python",
   "name": "conda-base-py"
  },
  "language_info": {
   "codemirror_mode": {
    "name": "ipython",
    "version": 3
   },
   "file_extension": ".py",
   "mimetype": "text/x-python",
   "name": "python",
   "nbconvert_exporter": "python",
   "pygments_lexer": "ipython3",
   "version": "3.13.5"
  }
 },
 "nbformat": 4,
 "nbformat_minor": 5
}
